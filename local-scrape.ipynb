{
 "cells": [
  {
   "cell_type": "code",
   "execution_count": 2,
   "metadata": {},
   "outputs": [],
   "source": [
    "import requests\n",
    "from bs4 import BeautifulSoup"
   ]
  },
  {
   "cell_type": "code",
   "execution_count": 13,
   "metadata": {},
   "outputs": [],
   "source": [
    "response = requests.get('https://www.darkoob.ir/tc/Concert/tehran')\n",
    "soup = BeautifulSoup(response.text, 'html.parser')\n",
    "events_div = soup.find_all('div', class_=\"allmode_box allmode-default\")[0]\n",
    "events_list = events_div.find_all('div', class_=\"allmode_item\")"
   ]
  },
  {
   "cell_type": "code",
   "execution_count": 36,
   "metadata": {},
   "outputs": [
    {
     "name": "stdout",
     "output_type": "stream",
     "text": [
      "کنسرت ایوان بند تهران تیر 1402\n",
      "https://www.darkoob.ir/images/events/logos/42547.jpg\n",
      "26 تیر 1402\n",
      "17 July 2023\n"
     ]
    }
   ],
   "source": [
    "event = events_list[0]\n",
    "\n",
    "title = event.find('h4', class_='allmode_title').find('a').text.strip()\n",
    "image = event.find('div', class_='allmode_img').find('img')['src']\n",
    "date = event.find('div', class_='allmode_text').find('div', class_='clearb').find('div', class_=\"event_detail\").find('span', 'dt1').text\n",
    "date_iran = date.strip().split('\\n')[0].strip()\n",
    "date_world = date.strip().split('\\n')[-1].strip()\n",
    "\n",
    "print(title)\n",
    "print(image)\n",
    "print(date_iran)\n",
    "print(date_world)"
   ]
  }
 ],
 "metadata": {
  "kernelspec": {
   "display_name": ".venv-local",
   "language": "python",
   "name": "python3"
  },
  "language_info": {
   "codemirror_mode": {
    "name": "ipython",
    "version": 3
   },
   "file_extension": ".py",
   "mimetype": "text/x-python",
   "name": "python",
   "nbconvert_exporter": "python",
   "pygments_lexer": "ipython3",
   "version": "3.11.4"
  },
  "orig_nbformat": 4
 },
 "nbformat": 4,
 "nbformat_minor": 2
}
